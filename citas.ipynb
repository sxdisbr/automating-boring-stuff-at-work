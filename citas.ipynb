{
  "nbformat": 4,
  "nbformat_minor": 0,
  "metadata": {
    "colab": {
      "name": "citas.ipynb",
      "provenance": [],
      "authorship_tag": "ABX9TyOXL/oxiBcf1ysxjHtKy67Y",
      "include_colab_link": true
    },
    "kernelspec": {
      "name": "python3",
      "display_name": "Python 3"
    },
    "language_info": {
      "name": "python"
    }
  },
  "cells": [
    {
      "cell_type": "markdown",
      "metadata": {
        "id": "view-in-github",
        "colab_type": "text"
      },
      "source": [
        "<a href=\"https://colab.research.google.com/github/sxdisbr/automating-boring-stuff-at-work/blob/main/citas.ipynb\" target=\"_parent\"><img src=\"https://colab.research.google.com/assets/colab-badge.svg\" alt=\"Open In Colab\"/></a>"
      ]
    },
    {
      "cell_type": "code",
      "source": [
        "from googlesearch import search\n",
        "\n"
      ],
      "metadata": {
        "id": "cNSuuo-4y2P6"
      },
      "execution_count": 1,
      "outputs": []
    },
    {
      "cell_type": "code",
      "source": [
        "query = input('')"
      ],
      "metadata": {
        "id": "qJ0-3y2Woxql"
      },
      "execution_count": null,
      "outputs": []
    },
    {
      "cell_type": "code",
      "source": [
        "for i in search(query, num=1000):\n",
        "  print(i)"
      ],
      "metadata": {
        "id": "c2aXNSMLzbpz"
      },
      "execution_count": null,
      "outputs": []
    }
  ]
}