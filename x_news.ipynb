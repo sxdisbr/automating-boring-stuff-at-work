{
  "nbformat": 4,
  "nbformat_minor": 0,
  "metadata": {
    "colab": {
      "name": "x_news.ipynb",
      "provenance": [],
      "authorship_tag": "ABX9TyPP41EHQY3gurhZ/bWNXj4i",
      "include_colab_link": true
    },
    "kernelspec": {
      "name": "python3",
      "display_name": "Python 3"
    },
    "language_info": {
      "name": "python"
    }
  },
  "cells": [
    {
      "cell_type": "markdown",
      "metadata": {
        "id": "view-in-github",
        "colab_type": "text"
      },
      "source": [
        "<a href=\"https://colab.research.google.com/github/sxdisbr/automating-boring-stuff-at-work/blob/main/x_news.ipynb\" target=\"_parent\"><img src=\"https://colab.research.google.com/assets/colab-badge.svg\" alt=\"Open In Colab\"/></a>"
      ]
    },
    {
      "cell_type": "code",
      "execution_count": 1,
      "metadata": {
        "id": "58vDA-G6XbsD"
      },
      "outputs": [],
      "source": [
        "import pandas as pd\n",
        "import numpy as np"
      ]
    },
    {
      "cell_type": "code",
      "source": [
        "x_news = []\n",
        "for i in range(0, 31):\n",
        "  x_news.append(input(x_news))\n",
        "\n",
        "11447\n"
      ],
      "metadata": {
        "id": "jKLOSlm2kqu-"
      },
      "execution_count": null,
      "outputs": []
    },
    {
      "cell_type": "code",
      "source": [
        "print(x_news)"
      ],
      "metadata": {
        "id": "Ef-zwxp_liev"
      },
      "execution_count": null,
      "outputs": []
    },
    {
      "cell_type": "code",
      "source": [
        "for i in range(0, len(x_news)):\n",
        "    x_news[i] = int(x_news[i])"
      ],
      "metadata": {
        "id": "j-PRcUmOy3Kg"
      },
      "execution_count": null,
      "outputs": []
    },
    {
      "cell_type": "code",
      "source": [
        "x_news_min=np.amin(x_news)\n",
        "x_news_max=np.amax(x_news)\n",
        "x_news_avg=np.average(x_news)\n",
        "target=100\n",
        "x_news_target=(x_news_avg/target)*100\n",
        "print(x_news_min)\n",
        "print(x_news_max)\n",
        "print(x_news_avg)\n",
        "print(x_news_target)"
      ],
      "metadata": {
        "id": "c9i4XIofwIRo"
      },
      "execution_count": null,
      "outputs": []
    }
  ]
}